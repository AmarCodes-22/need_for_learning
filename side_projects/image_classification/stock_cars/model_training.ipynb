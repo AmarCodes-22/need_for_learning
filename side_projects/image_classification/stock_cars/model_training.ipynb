{
 "cells": [
  {
   "cell_type": "markdown",
   "id": "9b634dfe-290a-4dfb-a757-4e33a9b193f9",
   "metadata": {
    "heading_collapsed": "true",
    "tags": []
   },
   "source": [
    "# Sanity check"
   ]
  },
  {
   "cell_type": "code",
   "execution_count": 1,
   "id": "b5b60b3f-15ae-4337-935c-36f80ecc1e8c",
   "metadata": {},
   "outputs": [
    {
     "data": {
      "text/plain": [
       "'/home/amar/Desktop/projects/NFS/side_projects/image_classification/stock_cars'"
      ]
     },
     "execution_count": 1,
     "metadata": {},
     "output_type": "execute_result"
    }
   ],
   "source": [
    "pwd"
   ]
  },
  {
   "cell_type": "markdown",
   "id": "e44e9c37-401c-4d22-b62b-6b43265e44ed",
   "metadata": {},
   "source": [
    "# Imports"
   ]
  },
  {
   "cell_type": "code",
   "execution_count": 2,
   "id": "b708ca6f-9807-46f6-a5a7-4ff3218767b4",
   "metadata": {},
   "outputs": [],
   "source": [
    "import tensorflow\n",
    "import numpy as np"
   ]
  },
  {
   "cell_type": "markdown",
   "id": "f1eec285-3a4a-40ec-a4c1-327f80b869b7",
   "metadata": {},
   "source": [
    "# Setting up paths and files"
   ]
  },
  {
   "cell_type": "code",
   "execution_count": 5,
   "id": "4c1c94a2-bbd4-4e53-943e-412b1677dff8",
   "metadata": {},
   "outputs": [
    {
     "name": "stdout",
     "output_type": "stream",
     "text": [
      " data\t\t data_collection.ipynb\t data.dvc\n",
      "'data(backup)'\t data_collection.py\t model_training.ipynb\n"
     ]
    }
   ],
   "source": [
    "!ls"
   ]
  },
  {
   "cell_type": "code",
   "execution_count": null,
   "id": "d6969edb-86af-450f-bea8-f8323e18a651",
   "metadata": {},
   "outputs": [],
   "source": []
  }
 ],
 "metadata": {
  "kernelspec": {
   "display_name": "Python 3",
   "language": "python",
   "name": "python3"
  },
  "language_info": {
   "codemirror_mode": {
    "name": "ipython",
    "version": 3
   },
   "file_extension": ".py",
   "mimetype": "text/x-python",
   "name": "python",
   "nbconvert_exporter": "python",
   "pygments_lexer": "ipython3",
   "version": "3.9.5"
  }
 },
 "nbformat": 4,
 "nbformat_minor": 5
}
