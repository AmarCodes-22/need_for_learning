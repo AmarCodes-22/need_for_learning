{
 "cells": [
  {
   "cell_type": "markdown",
   "id": "f823988d-9f85-46f6-ac30-94110a39189c",
   "metadata": {
    "heading_collapsed": "true",
    "tags": []
   },
   "source": [
    "# Sanity check"
   ]
  },
  {
   "cell_type": "code",
   "execution_count": 2,
   "id": "c8c98401-ff31-47ac-8330-c50b8f1aef64",
   "metadata": {},
   "outputs": [
    {
     "name": "stdout",
     "output_type": "stream",
     "text": [
      "/home/amar/Desktop/projects/NFS/nfs_venv/bin/python\n"
     ]
    }
   ],
   "source": [
    "!which python"
   ]
  },
  {
   "cell_type": "code",
   "execution_count": 3,
   "id": "f46977d9-b7df-4f2b-b633-1f0ce7eac240",
   "metadata": {},
   "outputs": [
    {
     "name": "stdout",
     "output_type": "stream",
     "text": [
      "/home/amar/Desktop/projects/NFS\n"
     ]
    }
   ],
   "source": [
    "!pwd"
   ]
  },
  {
   "cell_type": "markdown",
   "id": "dc1a29c0-2017-4020-ba14-fae47a4a5473",
   "metadata": {
    "tags": []
   },
   "source": [
    "# Imports"
   ]
  },
  {
   "cell_type": "code",
   "execution_count": 2,
   "id": "eb597dba-0f3c-4062-8041-854e9d643278",
   "metadata": {},
   "outputs": [],
   "source": [
    "import os\n",
    "import cv2 as cv\n",
    "import numpy as np\n",
    "import matplotlib.pyplot as plt\n",
    "import matplotlib.image as mpimg\n",
    "# from ipywidgets import Video, Image\n",
    "from IPython.display import Video"
   ]
  },
  {
   "cell_type": "markdown",
   "id": "7c894be5-ffd2-4abf-8cdf-b86d1ec729f6",
   "metadata": {
    "heading_collapsed": "true",
    "tags": []
   },
   "source": [
    "# Paths and Files"
   ]
  },
  {
   "cell_type": "code",
   "execution_count": 3,
   "id": "2b7c3da5-357a-4e83-9dde-a8300d462cd6",
   "metadata": {},
   "outputs": [],
   "source": [
    "project_dir = os.getcwd()\n",
    "processed_videos_dir = os.path.join(project_dir, 'data', 'outputs')\n",
    "raw_videos_dir = os.path.join(project_dir, 'data', 'videos')\n",
    "# os.listdir(raw_videos_dir)"
   ]
  },
  {
   "cell_type": "code",
   "execution_count": 4,
   "id": "93aa23f0-85fd-4548-b2d5-127bb60a5dad",
   "metadata": {},
   "outputs": [],
   "source": [
    "paths = {\n",
    "    'project_dir': project_dir,\n",
    "    'processed_videos_dir': processed_videos_dir,\n",
    "    'raw_videos_dir': raw_videos_dir\n",
    "}"
   ]
  },
  {
   "cell_type": "markdown",
   "id": "3836210b-1532-4714-a609-80e6ae45fe44",
   "metadata": {},
   "source": [
    "# Reading data"
   ]
  },
  {
   "cell_type": "code",
   "execution_count": 5,
   "id": "369295e1-67e2-4c0f-bd66-5eaab4fdc1c7",
   "metadata": {},
   "outputs": [
    {
     "output_type": "execute_result",
     "data": {
      "text/plain": [
       "{'project_dir': '/home/amar/Desktop/projects/NFS',\n",
       " 'processed_videos_dir': '/home/amar/Desktop/projects/NFS/data/outputs',\n",
       " 'raw_videos_dir': '/home/amar/Desktop/projects/NFS/data/videos'}"
      ]
     },
     "metadata": {},
     "execution_count": 5
    }
   ],
   "source": [
    "paths"
   ]
  },
  {
   "cell_type": "code",
   "execution_count": 7,
   "id": "587f91b2-3d5a-4d0a-927c-021255835432",
   "metadata": {
    "tags": []
   },
   "outputs": [],
   "source": [
    "cap = cv.VideoCapture(os.path.join(paths['processed_videos_dir'], 'highway_footage_tpp.avi'))\n",
    "while True:\n",
    "    ret, frame = cap.read()\n",
    "    if ret:\n",
    "        cv.imshow('Test', frame)\n",
    "        pass\n",
    "    else:\n",
    "        print(\"frame not read, exiting\")\n",
    "        break\n",
    "\n",
    "    if cv.waitKey(1) == ord('q'):\n",
    "        break\n",
    "\n",
    "cv.destroyAllWindows()\n",
    "cap.release()"
   ]
  },
  {
   "cell_type": "code",
   "execution_count": 17,
   "id": "5e02d7d6-fbfa-492a-b8ea-22445ef091a9",
   "metadata": {},
   "outputs": [],
   "source": [
    "# Video(os.path.join(paths['processed_videos_dir']), 'highway_footage_tpp.avi')"
   ]
  },
  {
   "cell_type": "code",
   "execution_count": null,
   "id": "11761363-4669-4303-b6ac-97aeef388021",
   "metadata": {},
   "outputs": [],
   "source": []
  }
 ],
 "metadata": {
  "kernelspec": {
   "name": "python3",
   "display_name": "Python 3.6.13 64-bit (conda)"
  },
  "language_info": {
   "codemirror_mode": {
    "name": "ipython",
    "version": 3
   },
   "file_extension": ".py",
   "mimetype": "text/x-python",
   "name": "python",
   "nbconvert_exporter": "python",
   "pygments_lexer": "ipython3",
   "version": "3.6.13"
  },
  "interpreter": {
   "hash": "ddf28ce6e02ef0b40f6e4592c3b4467646ad97aa4f9566ae6b9a4218a73e0d91"
  }
 },
 "nbformat": 4,
 "nbformat_minor": 5
}